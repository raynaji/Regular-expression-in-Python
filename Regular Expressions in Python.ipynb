{
 "cells": [
  {
   "cell_type": "markdown",
   "metadata": {},
   "source": [
    "# Regular Expressions in Python"
   ]
  },
  {
   "cell_type": "markdown",
   "metadata": {},
   "source": [
    "In this notebook, I firstly introduced some basic syntax and functions (match, search, sub) of \"re\" module in Python for regular expressions operations. \n",
    "\n",
    "Then I used \"mock_data.csv\" which contains the information of birthday, phone, names, lat_long, email, zip, city to practice Regex in Python. \n",
    "\n",
    "There are four tasks to complete. And I provided multiple solutions for each task."
    "\n",
    "* Transform the *birthday* column from European to US data format.\n",
    "\n",
    "* Strip everything but the *email* column.\n",
    "\n",
    "* Convert the format to be \"name[TAB]birthday\", and strip the rest.\n",
    "\n",
    "* Strip everything but the *lat_long* column. Convert it to be \"long[TAB]lat\"."
   ]
  },
  {
   "cell_type": "markdown",
   "metadata": {},
   "source": [
    "## Basic syntax"
   ]
  },
  {
   "cell_type": "markdown",
   "metadata": {},
   "source": [
    "\n",
    "^: beginning of line\n",
    "\n",
    "$: end of line\n",
    "\n",
    ". : any single character except newline. Use re.M flag option allows it to match newline as well.\n",
    "\n",
    "[...]: match any single character in brackets.\n",
    "\n",
    "**[^...]**: match any single character *not* in brackets.\n",
    "\n",
    "re*: match 0 or more occurrences of preceding expression.\n",
    "\n",
    "re+: match 1 or more occurrences of preceding expression.\n",
    "\n",
    "re?: match 0 or 1 occurrence of preceding expression.\n",
    "\n",
    "re{n}: match exactly n number of occurrences of preceding expression.\n",
    "\n",
    "re{n,}: match n or more occurrences of preceding expression,\n",
    "\n",
    "re{n, m}: match at least n and at more m numbers of occurrences of preceding expression.\n",
    "\n",
    "a|b: match either a or b.\n",
    "\n",
    "(re): groups regular expressions and remembers matched text.\n",
    "\n",
    "\n",
    "\\w: match word characters  \n",
    "\\W: match non-word characters\n",
    "\n",
    "\\s: match white space. Equivalent to [\\t\\n\\r\\f]  \n",
    "\\S: match non-white-space.\n",
    "\n",
    "\\d: match digits. Equivalent to [0-9].  \n",
    "\\D: match non-digits. Equivalent to [^0-9]\n",
    "\n",
    "\\A: match beginning of string.\n",
    "\n",
    "\\Z: match end of string, (before newline).  \n",
    "\\z: match end of string.\n",
    "\n",
    "\\1...\\9: match nth grouped subexpression."
   ]
  },
  {
   "cell_type": "markdown",
   "metadata": {},
   "source": [
    "## Functions"
   ]
  },
  {
   "cell_type": "code",
   "execution_count": 3,
   "metadata": {},
   "outputs": [],
   "source": [
    "import re\n",
    "import pandas as pd"
   ]
  },
  {
   "cell_type": "markdown",
   "metadata": {},
   "source": [
    "### The *match* functioin\n",
    "This function attempts to *match* RE *pattern* (the regex expressions to be matched) to *string* with optional *flags* (modifiers, we use OR | for different flags)."
   ]
  },
  {
   "cell_type": "code",
   "execution_count": 4,
   "metadata": {},
   "outputs": [],
   "source": [
    "# syntax\n",
    "# re.match(pattern, string, flags=0)"
   ]
  },
  {
   "cell_type": "markdown",
   "metadata": {},
   "source": [
    "The *re.match* function returns a **match object** on success, **None** on failure.  \n",
    "\n",
    "We use *group(num)* or *groups()* function of **match object** to get matched expression."
   ]
  },
  {
   "cell_type": "code",
   "execution_count": 5,
   "metadata": {},
   "outputs": [
    {
     "name": "stdout",
     "output_type": "stream",
     "text": [
      "matchObj.group() :  Cats are smarter than dogs\n",
      "matchObj.group(1) :  Cats\n",
      "matchObj.group(2) :  smarter\n"
     ]
    }
   ],
   "source": [
    "# EXAMPLE\n",
    "line = \"Cats are smarter than dogs\"\n",
    "\n",
    "matchObj = re.match( r'(.*) are (.*?) .*', line, re.M|re.I)\n",
    "\n",
    "if matchObj:\n",
    "   print(\"matchObj.group() : \", matchObj.group())\n",
    "   print(\"matchObj.group(1) : \", matchObj.group(1))\n",
    "   print(\"matchObj.group(2) : \", matchObj.group(2))\n",
    "else:\n",
    "   print(\"No match!!\")"
   ]
  },
  {
   "cell_type": "markdown",
   "metadata": {},
   "source": [
    "### The *search* function\n",
    "This function searches for first occurrence of RE *pattern* within *string* with optional *flags*."
   ]
  },
  {
   "cell_type": "code",
   "execution_count": 6,
   "metadata": {},
   "outputs": [],
   "source": [
    "# syntax\n",
    "# re.search(pattern, string, flags=0)"
   ]
  },
  {
   "cell_type": "code",
   "execution_count": 21,
   "metadata": {},
   "outputs": [
    {
     "name": "stdout",
     "output_type": "stream",
     "text": [
      "searchObj.group() :  Cats are smarter than dogs\n",
      "searchObj.group(1) :  Cats\n",
      "searchObj.group(2) :  smarter\n"
     ]
    }
   ],
   "source": [
    "# EXAMPLE\n",
    "line = \"Cats are smarter than dogs\";\n",
    "\n",
    "searchObj = re.search( r'(.*) are (.*?) .*', line, re.M|re.I)\n",
    "\n",
    "if searchObj:\n",
    "   print(\"searchObj.group() : \", searchObj.group())\n",
    "   print(\"searchObj.group(1) : \", searchObj.group(1))\n",
    "   print(\"searchObj.group(2) : \", searchObj.group(2))\n",
    "else:\n",
    "   print(\"Nothing found!!\")"
   ]
  },
  {
   "cell_type": "markdown",
   "metadata": {},
   "source": [
    "### The *sub* function\n",
    "This method replaces all occurrences of the RE *pattern* in *string* with *repl*, substituting all occurrences unless *max* provided. repl can also be Regex pattern.  "
   ]
  },
  {
   "cell_type": "code",
   "execution_count": 8,
   "metadata": {},
   "outputs": [],
   "source": [
    "# syntax\n",
    "# re.sub(pattern, repl, string, max=0)"
   ]
  },
  {
   "cell_type": "code",
   "execution_count": 9,
   "metadata": {},
   "outputs": [
    {
     "name": "stdout",
     "output_type": "stream",
     "text": [
      "Phone Num :  2004-959-559 \n",
      "Phone Num :  2004959559\n",
      "Phone Num :  959\n",
      "Phone Num :  \u0001-\u0003-\u0002\n",
      "Phone Num :  2004-559-959\n"
     ]
    }
   ],
   "source": [
    "phone = \"2004-959-559 # This is Phone Number\"\n",
    "\n",
    "# Delete Python-style comments\n",
    "num = re.sub(r'#.*$', \"\", phone)\n",
    "print(\"Phone Num : \", num)\n",
    "\n",
    "# Remove anything other than digits\n",
    "num = re.sub(r'\\D', \"\", phone)    \n",
    "print(\"Phone Num : \", num)\n",
    "\n",
    "num = re.match(r'(\\d*)-(\\d*)-(\\d*).*', phone)    \n",
    "print(\"Phone Num : \", num.group(2))\n",
    "\n",
    "num = re.sub(r'(\\d*)-(\\d*)-(\\d*).*', '\\1-\\3-\\2', phone)    \n",
    "print(\"Phone Num : \", num)\n",
    "\n",
    "# the repl part can also be regex pattern, but always remember to use r''.\n",
    "num = re.sub(r'(\\d*)-(\\d*)-(\\d*).*', r'\\1-\\3-\\2', phone)    \n",
    "print(\"Phone Num : \", num)"
   ]
  },
  {
   "cell_type": "markdown",
   "metadata": {},
   "source": [
    "## Four tasks of practice using \"mock_data.csv\"\n",
    "* Transform the *birthday* column from European to US data format.\n",
    "\n",
    "* Strip everything but the *email* column.\n",
    "\n",
    "* Convert the format to be \"name[TAB]birthday\", and strip the rest.\n",
    "\n",
    "* Strip everything but the *lat_long* column. Convert it to be \"long[TAB]lat\"."
   ]
  },
  {
   "cell_type": "code",
   "execution_count": 10,
   "metadata": {},
   "outputs": [],
   "source": [
    "with open(\"mock_data.csv\") as file:\n",
    "    data = file.read()\n",
    "    file.close()"
   ]
  },
  {
   "cell_type": "code",
   "execution_count": 11,
   "metadata": {},
   "outputs": [
    {
     "name": "stdout",
     "output_type": "stream",
     "text": [
      "birthday,phone,names,lat_long,email,zip,city\n",
      "05.07.2020,1-560-294-4480,Leslie H. Howard,\"-80.7931, 157.73725\",magna.Nam@Praesentinterdumligula.com,05-449,Campina Grande\n",
      "06.11.2019,1-616-403-7121,Kyra T. Wynn,\"-54.65661, 87.93458\",amet.ornare@uterosnon.net,1975,Bagh\n",
      "23.11.2020,1-258-160-9496,Darius G. Huff,\"-56.23283, -116.1583\",ipsum@erat.co.uk,24192,Conca Casale\n",
      "07.05.2020,1-129-425-6705,Flynn M. Rodriguez,\"50.02477, -93.02564\",nunc.est.mollis@auctor.com,6311,Uyo\n",
      "25.09.2020,1-715-932-5611,Damon\n"
     ]
    }
   ],
   "source": [
    "# inspect data\n",
    "print(data[:500])"
   ]
  },
  {
   "cell_type": "markdown",
   "metadata": {},
   "source": [
    "### To transform the column birthday from European to US data format while leaving the rest as is."
   ]
  },
  {
   "cell_type": "code",
   "execution_count": 12,
   "metadata": {},
   "outputs": [],
   "source": [
    "q1 = re.compile(\"([0-9]{2}).([0-9]{2}).([0-9]{4})\")\n",
    "\n",
    "# alternative way: \\d matches any digit\n",
    "r = re.compile('(\\d{2}).(\\d{2}).(\\d{4})')"
   ]
  },
  {
   "cell_type": "code",
   "execution_count": 13,
   "metadata": {},
   "outputs": [
    {
     "data": {
      "text/plain": [
       "<re.Match object; span=(45, 55), match='05.07.2020'>"
      ]
     },
     "execution_count": 13,
     "metadata": {},
     "output_type": "execute_result"
    }
   ],
   "source": [
    "# search and match function returns a match object.\n",
    "q1.search(data) # previous date check"
   ]
  },
  {
   "cell_type": "code",
   "execution_count": 14,
   "metadata": {},
   "outputs": [],
   "source": [
    "# do the replace operation.\n",
    "data1 = q1.sub(r' \\2/\\1 \\3',data)"
   ]
  },
  {
   "cell_type": "code",
   "execution_count": 15,
   "metadata": {},
   "outputs": [
    {
     "data": {
      "text/plain": [
       "<re.Match object; span=(46, 56), match='07/05 2020'>"
      ]
     },
     "execution_count": 15,
     "metadata": {},
     "output_type": "execute_result"
    }
   ],
   "source": [
    "q1.search(data1) # new date check "
   ]
  },
  {
   "cell_type": "code",
   "execution_count": 16,
   "metadata": {},
   "outputs": [
    {
     "name": "stdout",
     "output_type": "stream",
     "text": [
      "birthday,phone,names,lat_long,email,zip,city\n",
      " 07/05 2020,1-560-294-4480,Leslie H. Howard,\"-80.7931, 157.73725\",magna.Nam@Praesentinterdumligula.com,05-449,Campina Grande\n",
      " 11/06 2019,1-616-403-7121,Kyra T. Wynn,\"-54.65661, 87.93458\",amet.ornare@uterosnon.net,1975,Bagh\n",
      " 11/23 2020,1-258-160-9496,Darius G. Huff,\"-56.23283, -116.1583\",ipsum@erat.co.uk,24192,Conca Casale\n",
      " 05/07 2020,1-129-425-6705,Flynn M. Rodriguez,\"50.02477, -93.02564\",nunc.est.mollis@auctor.com,6311,Uyo\n",
      " 09/25 2020,1-715-932-5611,Damon K. Potts,\"34.94064, 91.87029\",neque.venenatis@Phasellus.ca,26531,Lahore\n",
      " 12/30 2019,1-488-594-4480,Odessa U. Stewart,\"41.01394, 96.36819\",Proin.mi@a.co.uk,40738,Namen\n",
      " 03/04 2019,1-693-871-0017,Ruby M. Noble,\"75.21109, -148.67016\",gravida.non.sollicitudin@odioNam.net,968589,Sevilla\n",
      " 12/17 2020,1-337-498-7475,Hadassah W. Dale,\"32.72148, -122.01392\",Cras@dictum.co.uk,5375,Bella\n",
      " 02/24 2019,1-861-878-4813,Baker B. Francis,\"36.06121, -68.27199\",erat@tinciduntnibhPhasellus.ca,65737,Chekhov\n",
      " 09/\n"
     ]
    }
   ],
   "source": [
    "print(data1[:1000])"
   ]
  },
  {
   "cell_type": "code",
   "execution_count": 17,
   "metadata": {},
   "outputs": [],
   "source": [
    "# Another way to do the whole thing without writing the regular expression in re.compile in advance.\n",
    "\n",
    "# (?P<name>...): give the group a group-name\n",
    "# (?P=name): in the same pattern, to refer the group by using the group-name.\n",
    "# \\g<name>: in repl statement in sub function, to refer the group by using group-name.\n",
    "\n",
    "data1 = re.sub(r'(?P<day>\\d{2})\\.(?P<mon>\\d{2})\\.(?P<year>\\d{4})', r\"\\g<mon>/\\g<day>/\\g<year>\", data)"
   ]
  },
  {
   "cell_type": "markdown",
   "metadata": {},
   "source": [
    "### To strip everything BUT the email column."
   ]
  },
  {
   "cell_type": "code",
   "execution_count": 18,
   "metadata": {},
   "outputs": [
    {
     "name": "stdout",
     "output_type": "stream",
     "text": [
      "birthday,phone,names,lat_long,email,zip,city\n",
      "magna.Nam@Praesentinterdumligula.com\n",
      "amet.ornare@uterosnon.net\n",
      "ipsum@erat.co.uk\n",
      "nunc.est.mollis@auctor.com\n",
      "neque.venenatis@Phasellus.ca\n",
      "Proin.mi@a.co.uk\n",
      "gravida.non.sollicitudin@odioNam.net\n",
      "Cras@dictum.co.uk\n",
      "erat@tinciduntnibhPhasellus.ca\n",
      "in@nequeseddictum.co.uk\n",
      "vel@mollis.ca\n",
      "egestas@mauriserat.com\n",
      "egestas.hendrerit.neque@erat.net\n",
      "nulla@scelerisquesed.co.uk\n",
      "tristique.pellentesque@egetvarius.net\n",
      "erat.Etiam@senectus.com\n",
      "amet.dapibus@dignissimlacusAliquam.edu\n",
      "cursus.luctus@risusatfringilla.org\n",
      "ut@fermentummetusAenean.com\n",
      "rutrum@metusAliquam.co.uk\n",
      "Proin.dolor@sagittisDuisgravida.ca\n",
      "elit.pretium.et@vitaesodales.edu\n",
      "magna.a.tortor@id.net\n",
      "ornare.elit.elit@adipiscingenim.org\n",
      "nulla.Integer@maurisipsumporta.ca\n",
      "semper.rutrum.Fusce@Nullam.net\n",
      "conubia.nostra.per@Nullamscelerisqueneque.edu\n",
      "nec.eleifend.non@enim.co.uk\n",
      "nibh@Nullamsuscipit.net\n",
      "elit.elit@sedfacilisis.ca\n",
      "non.cursus@dignissimtemporarcu.co.uk\n",
      "et.libero@Sed.net\n",
      "non.cursus.non@ridiculus.edu\n",
      "eget.o\n"
     ]
    }
   ],
   "source": [
    "q2 = re.compile(\".*,([\\w\\.\\-]+@([\\w\\-]+)((\\.(\\w){2,3})+)).*\")\n",
    "data2 = q2.sub(r'\\1', data)\n",
    "print(data2[:1000])\n",
    "\n",
    "# alternative way: \n",
    "# [^...]: match any single character not in brackets.\n",
    "# .*?: non-greedy \n",
    "q2 = re.compile(r'.*?([^,]*@[^,]*).*')\n",
    "\n",
    "# or\n",
    "q2 = re.compile(r'.*?([-.A-Za-z]*@[-.A-Za-z]*).*')"
   ]
  },
  {
   "cell_type": "markdown",
   "metadata": {},
   "source": [
    "### Convert the format to be \"name [TAB] birthday\".  Strip the rest."
   ]
  },
  {
   "cell_type": "markdown",
   "metadata": {},
   "source": [
    "Note: We use TAB so that we can copy and pass the results into excel."
   ]
  },
  {
   "cell_type": "code",
   "execution_count": 22,
   "metadata": {},
   "outputs": [],
   "source": [
    "# \\w: match word characters\n",
    "q3 = re.compile(\"(\\d{2}).(\\d{2}).(\\d{4}),(.*),(\\w+\\s[\\w.]+\\s\\w+),(.*)\")\n",
    "\n",
    "# alternative way\n",
    "r = re.compile(r'.*(?P<day>\\d{2})\\.(?P<mon>\\d{2})\\.(?P<year>\\d{4}).*,(?P<name>[^,@\\d]*),.*')\n",
    "r = re.compile(\"(\\d{2}).(\\d{2}).(\\d{4}),([A-Za-z.\\s]+).*\")"
   ]
  },
  {
   "cell_type": "code",
   "execution_count": 23,
   "metadata": {
    "scrolled": true
   },
   "outputs": [
    {
     "name": "stdout",
     "output_type": "stream",
     "text": [
      "birthday,phone,names,lat_long,email,zip,city\n",
      "Leslie H. Howard\t07-05-2020\n",
      "Kyra T. Wynn\t11-06-2019\n",
      "Darius G. Huff\t11-23-2020\n",
      "Flynn M. Rodriguez\t05-07-2020\n",
      "Damon K. Potts\t09-25-2020\n",
      "Odessa U. Stewart\t12-30-2019\n",
      "Ruby M. Noble\t03-04-2019\n",
      "Hadassah W. Dale\t12-17-2020\n",
      "Baker B. Francis\t02-24-2019\n",
      "Cheyenne K. Dean\t09-25-2020\n",
      "Kevyn E. Cox\t07-23-2019\n",
      "Gregory P. Hatfield\t10-05-2019\n",
      "Kylee J. Hoover\t03-29-2019\n",
      "Flavia M. Pitts\t03-23-2019\n",
      "Tamara V. Patrick\t12-02-2020\n",
      "Byron T. Horne\t02-29-2020\n",
      "Aubrey O. Barr\t07-07-2020\n",
      "India M. Burton\t08-08-2020\n",
      "Tatiana O. Sloan\t06-26-2020\n",
      "Kirsten S. Wolf\t06-11-2020\n",
      "Knox C. Farmer\t01-28-2019\n",
      "Kieran P. Hendrix\t09-06-2019\n",
      "Libby F. Mcmahon\t06-06-2019\n",
      "Xanthus P. Long\t12-05-2020\n",
      "Forrest Q. Stevens\t01-09-2019\n",
      "Gisela M. Banks\t08-17-2020\n",
      "Demetrius H. Solomon\t06-10-2020\n",
      "Rhoda V. Thornton\t10-06-2020\n",
      "William N. Thompson\t11-20-2020\n",
      "Nathaniel R. Meadows\t04-27-2020\n",
      "Kerry Y. Holman\t01-21-2019\n",
      "Brooke Y. Jensen\t09-09-2019\n",
      "Carl Y. Hart\t05-09-2019\n",
      "Yoko W. Conley\t10-12-2020\n",
      "Gisela E. Zamor\n"
     ]
    }
   ],
   "source": [
    "data3 = q3.sub(r'\\5\\t\\2-\\1-\\3',data)\n",
    "print(data3[:1000])"
   ]
  },
  {
   "cell_type": "markdown",
   "metadata": {},
   "source": [
    "### To strip everything BUT lat_long.  Reorder its entries to be \"long [TAB] lat\".  "
   ]
  },
  {
   "cell_type": "markdown",
   "metadata": {},
   "source": [
    "Note: We use TAB so that we can copy and paste the results into excel."
   ]
  },
  {
   "cell_type": "code",
   "execution_count": 24,
   "metadata": {},
   "outputs": [],
   "source": [
    "q4 = re.compile('(.*),\\\"([-0-9.\\s]+),([-0-9.\\s]+)\",(.*)')\n",
    "\n",
    "# alternative way\n",
    "r = re.compile(r'.*\"(?P<lat>[^,]*),(?P<lon>[^,]*)\".*')\n",
    "r = re.compile(\"(.*)\\\"([-0-9.]+),\\s+([-0-9.]+).*\")\n",
    "r = re.compile('.*?\"([-.0-9]*), ([-.0-9]*)\".*?')"
   ]
  },
  {
   "cell_type": "code",
   "execution_count": 25,
   "metadata": {},
   "outputs": [
    {
     "name": "stdout",
     "output_type": "stream",
     "text": [
      "birthday,phone,names,lat_long,email,zip,city\n",
      " 157.73725\t-80.7931\n",
      " 87.93458\t-54.65661\n",
      " -116.1583\t-56.23283\n",
      " -93.02564\t50.02477\n",
      " 91.87029\t34.94064\n",
      " 96.36819\t41.01394\n",
      " -148.67016\t75.21109\n",
      " -122.01392\t32.72148\n",
      " -68.27199\t36.06121\n",
      " 151.02082\t56.5022\n",
      " 46.41947\t89.15273\n",
      " 33.01087\t-59.95322\n",
      " 143.00006\t68.95134\n",
      " 134.95122\t-84.49028\n",
      " 63.55341\t39.99846\n",
      " 100.66053\t32.49449\n",
      " 9.15288\t-50.38051\n",
      " 156.80774\t-62.94522\n",
      " 24.95209\t28.70745\n",
      " -118.19839\t-64.38445\n",
      " 85.92271\t2.41655\n",
      " 33.43453\t55.02022\n",
      " 0.14016\t-39.34568\n"
     ]
    }
   ],
   "source": [
    "data4 = q4.sub(r'\\3\\t\\2',data)\n",
    "print(data4[:500])"
   ]
  }
 ],
 "metadata": {
  "hide_input": false,
  "kernelspec": {
   "display_name": "Python 3",
   "language": "python",
   "name": "python3"
  },
  "language_info": {
   "codemirror_mode": {
    "name": "ipython",
    "version": 3
   },
   "file_extension": ".py",
   "mimetype": "text/x-python",
   "name": "python",
   "nbconvert_exporter": "python",
   "pygments_lexer": "ipython3",
   "version": "3.7.1"
  },
  "toc": {
   "base_numbering": 1,
   "nav_menu": {},
   "number_sections": true,
   "sideBar": true,
   "skip_h1_title": false,
   "title_cell": "Table of Contents",
   "title_sidebar": "Contents",
   "toc_cell": false,
   "toc_position": {
    "height": "calc(100% - 180px)",
    "left": "10px",
    "top": "150px",
    "width": "165px"
   },
   "toc_section_display": true,
   "toc_window_display": true
  },
  "varInspector": {
   "cols": {
    "lenName": 16,
    "lenType": 16,
    "lenVar": 40
   },
   "kernels_config": {
    "python": {
     "delete_cmd_postfix": "",
     "delete_cmd_prefix": "del ",
     "library": "var_list.py",
     "varRefreshCmd": "print(var_dic_list())"
    },
    "r": {
     "delete_cmd_postfix": ") ",
     "delete_cmd_prefix": "rm(",
     "library": "var_list.r",
     "varRefreshCmd": "cat(var_dic_list()) "
    }
   },
   "types_to_exclude": [
    "module",
    "function",
    "builtin_function_or_method",
    "instance",
    "_Feature"
   ],
   "window_display": false
  }
 },
 "nbformat": 4,
 "nbformat_minor": 2
}
